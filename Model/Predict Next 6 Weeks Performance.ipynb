{
 "cells": [
  {
   "cell_type": "markdown",
   "metadata": {},
   "source": [
    "# EPL Fantasy 6-Week Predictor Model\n",
    "A few notes on the model, \n",
    "- I assume, across seasons, game weeks X through Y are comparable. 2020 will be a special case, but for the purpose of this excercise I run the same assumption.\n",
    "- I went with the kitchen sink approach here in choosing the random forest model, I've done model evaluation in the past and found there wasn't a notable difference in methods for this excercise\n",
    "- I consider a +/- difference of 4 or less a fairly solid prediction. Obviously the total can add up if each of your players end up being off by 4 or more, but in most gameweeks I either beat or tie the average using the predictions here."
   ]
  },
  {
   "cell_type": "code",
   "execution_count": 52,
   "metadata": {},
   "outputs": [
    {
     "data": {
      "text/markdown": [
       "*some markdown* $\\phi$"
      ],
      "text/plain": [
       "<IPython.core.display.Markdown object>"
      ]
     },
     "metadata": {},
     "output_type": "display_data"
    }
   ],
   "source": [
    "import pandas as pd\n",
    "import numpy as np\n",
    "import requests\n",
    "import pulp\n",
    "from IPython.display import display, Markdown, Latex\n",
    "display(Markdown('*some markdown* $\\phi$'))"
   ]
  },
  {
   "cell_type": "markdown",
   "metadata": {},
   "source": [
    "## Training the model"
   ]
  },
  {
   "cell_type": "code",
   "execution_count": 53,
   "metadata": {},
   "outputs": [
    {
     "data": {
      "text/html": [
       "<div>\n",
       "<style scoped>\n",
       "    .dataframe tbody tr th:only-of-type {\n",
       "        vertical-align: middle;\n",
       "    }\n",
       "\n",
       "    .dataframe tbody tr th {\n",
       "        vertical-align: top;\n",
       "    }\n",
       "\n",
       "    .dataframe thead th {\n",
       "        text-align: right;\n",
       "    }\n",
       "</style>\n",
       "<table border=\"1\" class=\"dataframe\">\n",
       "  <thead>\n",
       "    <tr style=\"text-align: right;\">\n",
       "      <th></th>\n",
       "      <th>assists</th>\n",
       "      <th>bonus</th>\n",
       "      <th>bps</th>\n",
       "      <th>clean_sheets</th>\n",
       "      <th>goals_conceded</th>\n",
       "      <th>goals_scored</th>\n",
       "      <th>own_goals</th>\n",
       "      <th>penalties_missed</th>\n",
       "      <th>penalties_saved</th>\n",
       "      <th>red_cards</th>\n",
       "      <th>...</th>\n",
       "      <th>influence</th>\n",
       "      <th>threat</th>\n",
       "      <th>value</th>\n",
       "      <th>n6_total_points</th>\n",
       "      <th>n6_opponent_difficulty</th>\n",
       "      <th>perc_min_played</th>\n",
       "      <th>element_type_1</th>\n",
       "      <th>element_type_2</th>\n",
       "      <th>element_type_3</th>\n",
       "      <th>element_type_4</th>\n",
       "    </tr>\n",
       "  </thead>\n",
       "  <tbody>\n",
       "    <tr>\n",
       "      <th>0</th>\n",
       "      <td>0</td>\n",
       "      <td>1</td>\n",
       "      <td>102</td>\n",
       "      <td>2</td>\n",
       "      <td>6</td>\n",
       "      <td>0</td>\n",
       "      <td>0</td>\n",
       "      <td>0</td>\n",
       "      <td>0</td>\n",
       "      <td>0</td>\n",
       "      <td>...</td>\n",
       "      <td>7.2</td>\n",
       "      <td>8.0</td>\n",
       "      <td>53</td>\n",
       "      <td>12</td>\n",
       "      <td>2.500000</td>\n",
       "      <td>1.000000</td>\n",
       "      <td>0</td>\n",
       "      <td>1</td>\n",
       "      <td>0</td>\n",
       "      <td>0</td>\n",
       "    </tr>\n",
       "    <tr>\n",
       "      <th>1</th>\n",
       "      <td>1</td>\n",
       "      <td>0</td>\n",
       "      <td>62</td>\n",
       "      <td>2</td>\n",
       "      <td>2</td>\n",
       "      <td>0</td>\n",
       "      <td>0</td>\n",
       "      <td>0</td>\n",
       "      <td>0</td>\n",
       "      <td>0</td>\n",
       "      <td>...</td>\n",
       "      <td>0.0</td>\n",
       "      <td>18.0</td>\n",
       "      <td>55</td>\n",
       "      <td>1</td>\n",
       "      <td>2.166667</td>\n",
       "      <td>0.577778</td>\n",
       "      <td>0</td>\n",
       "      <td>0</td>\n",
       "      <td>1</td>\n",
       "      <td>0</td>\n",
       "    </tr>\n",
       "    <tr>\n",
       "      <th>2</th>\n",
       "      <td>0</td>\n",
       "      <td>0</td>\n",
       "      <td>26</td>\n",
       "      <td>0</td>\n",
       "      <td>3</td>\n",
       "      <td>0</td>\n",
       "      <td>0</td>\n",
       "      <td>0</td>\n",
       "      <td>0</td>\n",
       "      <td>0</td>\n",
       "      <td>...</td>\n",
       "      <td>7.2</td>\n",
       "      <td>37.0</td>\n",
       "      <td>76</td>\n",
       "      <td>6</td>\n",
       "      <td>2.400000</td>\n",
       "      <td>0.233333</td>\n",
       "      <td>0</td>\n",
       "      <td>0</td>\n",
       "      <td>1</td>\n",
       "      <td>0</td>\n",
       "    </tr>\n",
       "    <tr>\n",
       "      <th>3</th>\n",
       "      <td>0</td>\n",
       "      <td>0</td>\n",
       "      <td>0</td>\n",
       "      <td>0</td>\n",
       "      <td>0</td>\n",
       "      <td>0</td>\n",
       "      <td>0</td>\n",
       "      <td>0</td>\n",
       "      <td>0</td>\n",
       "      <td>0</td>\n",
       "      <td>...</td>\n",
       "      <td>0.0</td>\n",
       "      <td>0.0</td>\n",
       "      <td>45</td>\n",
       "      <td>0</td>\n",
       "      <td>2.166667</td>\n",
       "      <td>0.000000</td>\n",
       "      <td>0</td>\n",
       "      <td>0</td>\n",
       "      <td>1</td>\n",
       "      <td>0</td>\n",
       "    </tr>\n",
       "    <tr>\n",
       "      <th>4</th>\n",
       "      <td>0</td>\n",
       "      <td>0</td>\n",
       "      <td>18</td>\n",
       "      <td>0</td>\n",
       "      <td>6</td>\n",
       "      <td>0</td>\n",
       "      <td>0</td>\n",
       "      <td>0</td>\n",
       "      <td>0</td>\n",
       "      <td>0</td>\n",
       "      <td>...</td>\n",
       "      <td>3.6</td>\n",
       "      <td>18.0</td>\n",
       "      <td>46</td>\n",
       "      <td>7</td>\n",
       "      <td>2.833333</td>\n",
       "      <td>0.333333</td>\n",
       "      <td>0</td>\n",
       "      <td>0</td>\n",
       "      <td>1</td>\n",
       "      <td>0</td>\n",
       "    </tr>\n",
       "  </tbody>\n",
       "</table>\n",
       "<p>5 rows × 29 columns</p>\n",
       "</div>"
      ],
      "text/plain": [
       "   assists  bonus  bps  clean_sheets  goals_conceded  goals_scored  own_goals  \\\n",
       "0        0      1  102             2               6             0          0   \n",
       "1        1      0   62             2               2             0          0   \n",
       "2        0      0   26             0               3             0          0   \n",
       "3        0      0    0             0               0             0          0   \n",
       "4        0      0   18             0               6             0          0   \n",
       "\n",
       "   penalties_missed  penalties_saved  red_cards  ...  influence  threat  \\\n",
       "0                 0                0          0  ...        7.2     8.0   \n",
       "1                 0                0          0  ...        0.0    18.0   \n",
       "2                 0                0          0  ...        7.2    37.0   \n",
       "3                 0                0          0  ...        0.0     0.0   \n",
       "4                 0                0          0  ...        3.6    18.0   \n",
       "\n",
       "   value  n6_total_points  n6_opponent_difficulty  perc_min_played  \\\n",
       "0     53               12                2.500000         1.000000   \n",
       "1     55                1                2.166667         0.577778   \n",
       "2     76                6                2.400000         0.233333   \n",
       "3     45                0                2.166667         0.000000   \n",
       "4     46                7                2.833333         0.333333   \n",
       "\n",
       "   element_type_1  element_type_2  element_type_3  element_type_4  \n",
       "0               0               1               0               0  \n",
       "1               0               0               1               0  \n",
       "2               0               0               1               0  \n",
       "3               0               0               1               0  \n",
       "4               0               0               1               0  \n",
       "\n",
       "[5 rows x 29 columns]"
      ]
     },
     "execution_count": 53,
     "metadata": {},
     "output_type": "execute_result"
    }
   ],
   "source": [
    "df_import = pd.read_csv(\"https://raw.githubusercontent.com/tprice90/epl_fantasy_predictor/main/Data%20Prep/16-20%20Combined.csv\")\n",
    "df_import = pd.DataFrame(df_import)\n",
    "df_import = df_import.drop(columns=['Unnamed: 0'], axis=0)\n",
    "df = df_import.drop(columns=['name','element','id'], axis=0)\n",
    "df.head()\n"
   ]
  },
  {
   "cell_type": "code",
   "execution_count": 54,
   "metadata": {},
   "outputs": [],
   "source": [
    "# Use numpy to convert to arrays\n",
    "\n",
    "# Labels are the values we want to predict\n",
    "labels = np.array(df['n6_total_points'])\n",
    "# Remove the labels from the features\n",
    "# axis 1 refers to the columns\n",
    "features = df.drop('n6_total_points', axis = 1)\n",
    "# Saving feature names for later use\n",
    "features_list = list(features.columns)\n",
    "# Convert to numpy array\n",
    "features = np.array(features)"
   ]
  },
  {
   "cell_type": "code",
   "execution_count": 55,
   "metadata": {},
   "outputs": [],
   "source": [
    "# Using Skicit-learn to split data into training and testing sets\n",
    "from sklearn.model_selection import train_test_split\n",
    "# Split the data into training and testing sets\n",
    "train_features, test_features, train_labels, test_labels = train_test_split(features, labels, test_size = 0.25, random_state = 42)"
   ]
  },
  {
   "cell_type": "code",
   "execution_count": 56,
   "metadata": {},
   "outputs": [
    {
     "name": "stdout",
     "output_type": "stream",
     "text": [
      "Training Features Shape: (1770, 28)\n",
      "Training Labels Shape: (1770,)\n",
      "Testing Features Shape: (591, 28)\n",
      "Testing Labels Shape: (591,)\n"
     ]
    }
   ],
   "source": [
    "print('Training Features Shape:', train_features.shape)\n",
    "print('Training Labels Shape:', train_labels.shape)\n",
    "print('Testing Features Shape:', test_features.shape)\n",
    "print('Testing Labels Shape:', test_labels.shape)"
   ]
  },
  {
   "cell_type": "code",
   "execution_count": 57,
   "metadata": {},
   "outputs": [],
   "source": [
    "# Import the model we are using\n",
    "from sklearn.ensemble import RandomForestRegressor\n",
    "# Instantiate model with 1000 decision trees\n",
    "rf = RandomForestRegressor(n_estimators = 1000, random_state = 42)\n",
    "# Train the model on training data\n",
    "rf.fit(train_features, train_labels);"
   ]
  },
  {
   "cell_type": "code",
   "execution_count": 58,
   "metadata": {},
   "outputs": [
    {
     "name": "stdout",
     "output_type": "stream",
     "text": [
      "Mean Absolute Error: 5.12 points\n"
     ]
    }
   ],
   "source": [
    "# Use the forest's predict method on the test data\n",
    "predictions = rf.predict(test_features)\n",
    "# Calculate the absolute errors\n",
    "errors = abs(predictions - test_labels)\n",
    "# Print out the mean absolute error (mae)\n",
    "print('Mean Absolute Error:', round(np.mean(errors), 2), 'points')"
   ]
  },
  {
   "cell_type": "code",
   "execution_count": 59,
   "metadata": {},
   "outputs": [
    {
     "data": {
      "text/plain": [
       "RandomForestRegressor(n_estimators=1000, random_state=42)"
      ]
     },
     "execution_count": 59,
     "metadata": {},
     "output_type": "execute_result"
    }
   ],
   "source": [
    "rf.fit(features, labels)"
   ]
  },
  {
   "cell_type": "code",
   "execution_count": 60,
   "metadata": {},
   "outputs": [],
   "source": [
    "predictions = rf.predict(features)"
   ]
  },
  {
   "cell_type": "code",
   "execution_count": 61,
   "metadata": {
    "scrolled": true
   },
   "outputs": [
    {
     "data": {
      "text/html": [
       "<div>\n",
       "<style scoped>\n",
       "    .dataframe tbody tr th:only-of-type {\n",
       "        vertical-align: middle;\n",
       "    }\n",
       "\n",
       "    .dataframe tbody tr th {\n",
       "        vertical-align: top;\n",
       "    }\n",
       "\n",
       "    .dataframe thead th {\n",
       "        text-align: right;\n",
       "    }\n",
       "</style>\n",
       "<table border=\"1\" class=\"dataframe\">\n",
       "  <thead>\n",
       "    <tr style=\"text-align: right;\">\n",
       "      <th></th>\n",
       "      <th>name</th>\n",
       "      <th>assists</th>\n",
       "      <th>bonus</th>\n",
       "      <th>bps</th>\n",
       "      <th>clean_sheets</th>\n",
       "      <th>goals_conceded</th>\n",
       "      <th>goals_scored</th>\n",
       "      <th>own_goals</th>\n",
       "      <th>penalties_missed</th>\n",
       "      <th>penalties_saved</th>\n",
       "      <th>...</th>\n",
       "      <th>value</th>\n",
       "      <th>n6_total_points</th>\n",
       "      <th>n6_opponent_difficulty</th>\n",
       "      <th>perc_min_played</th>\n",
       "      <th>id</th>\n",
       "      <th>element_type_1</th>\n",
       "      <th>element_type_2</th>\n",
       "      <th>element_type_3</th>\n",
       "      <th>element_type_4</th>\n",
       "      <th>predictions</th>\n",
       "    </tr>\n",
       "  </thead>\n",
       "  <tbody>\n",
       "    <tr>\n",
       "      <th>0</th>\n",
       "      <td>Aaron_Cresswell</td>\n",
       "      <td>0</td>\n",
       "      <td>1</td>\n",
       "      <td>102</td>\n",
       "      <td>2</td>\n",
       "      <td>6</td>\n",
       "      <td>0</td>\n",
       "      <td>0</td>\n",
       "      <td>0</td>\n",
       "      <td>0</td>\n",
       "      <td>...</td>\n",
       "      <td>53</td>\n",
       "      <td>12</td>\n",
       "      <td>2.500000</td>\n",
       "      <td>1.000000</td>\n",
       "      <td>454.0</td>\n",
       "      <td>0</td>\n",
       "      <td>1</td>\n",
       "      <td>0</td>\n",
       "      <td>0</td>\n",
       "      <td>13.0</td>\n",
       "    </tr>\n",
       "    <tr>\n",
       "      <th>1</th>\n",
       "      <td>Aaron_Lennon</td>\n",
       "      <td>1</td>\n",
       "      <td>0</td>\n",
       "      <td>62</td>\n",
       "      <td>2</td>\n",
       "      <td>2</td>\n",
       "      <td>0</td>\n",
       "      <td>0</td>\n",
       "      <td>0</td>\n",
       "      <td>0</td>\n",
       "      <td>...</td>\n",
       "      <td>55</td>\n",
       "      <td>1</td>\n",
       "      <td>2.166667</td>\n",
       "      <td>0.577778</td>\n",
       "      <td>142.0</td>\n",
       "      <td>0</td>\n",
       "      <td>0</td>\n",
       "      <td>1</td>\n",
       "      <td>0</td>\n",
       "      <td>5.0</td>\n",
       "    </tr>\n",
       "    <tr>\n",
       "      <th>2</th>\n",
       "      <td>Aaron_Ramsey</td>\n",
       "      <td>0</td>\n",
       "      <td>0</td>\n",
       "      <td>26</td>\n",
       "      <td>0</td>\n",
       "      <td>3</td>\n",
       "      <td>0</td>\n",
       "      <td>0</td>\n",
       "      <td>0</td>\n",
       "      <td>0</td>\n",
       "      <td>...</td>\n",
       "      <td>76</td>\n",
       "      <td>6</td>\n",
       "      <td>2.400000</td>\n",
       "      <td>0.233333</td>\n",
       "      <td>16.0</td>\n",
       "      <td>0</td>\n",
       "      <td>0</td>\n",
       "      <td>1</td>\n",
       "      <td>0</td>\n",
       "      <td>8.0</td>\n",
       "    </tr>\n",
       "    <tr>\n",
       "      <th>3</th>\n",
       "      <td>Aaron_Wan-Bissaka</td>\n",
       "      <td>0</td>\n",
       "      <td>0</td>\n",
       "      <td>0</td>\n",
       "      <td>0</td>\n",
       "      <td>0</td>\n",
       "      <td>0</td>\n",
       "      <td>0</td>\n",
       "      <td>0</td>\n",
       "      <td>0</td>\n",
       "      <td>...</td>\n",
       "      <td>45</td>\n",
       "      <td>0</td>\n",
       "      <td>2.166667</td>\n",
       "      <td>0.000000</td>\n",
       "      <td>612.0</td>\n",
       "      <td>0</td>\n",
       "      <td>0</td>\n",
       "      <td>1</td>\n",
       "      <td>0</td>\n",
       "      <td>0.0</td>\n",
       "    </tr>\n",
       "    <tr>\n",
       "      <th>4</th>\n",
       "      <td>Abdoulaye_Doucouré</td>\n",
       "      <td>0</td>\n",
       "      <td>0</td>\n",
       "      <td>18</td>\n",
       "      <td>0</td>\n",
       "      <td>6</td>\n",
       "      <td>0</td>\n",
       "      <td>0</td>\n",
       "      <td>0</td>\n",
       "      <td>0</td>\n",
       "      <td>...</td>\n",
       "      <td>46</td>\n",
       "      <td>7</td>\n",
       "      <td>2.833333</td>\n",
       "      <td>0.333333</td>\n",
       "      <td>482.0</td>\n",
       "      <td>0</td>\n",
       "      <td>0</td>\n",
       "      <td>1</td>\n",
       "      <td>0</td>\n",
       "      <td>7.0</td>\n",
       "    </tr>\n",
       "  </tbody>\n",
       "</table>\n",
       "<p>5 rows × 33 columns</p>\n",
       "</div>"
      ],
      "text/plain": [
       "                 name  assists  bonus  bps  clean_sheets  goals_conceded  \\\n",
       "0     Aaron_Cresswell        0      1  102             2               6   \n",
       "1        Aaron_Lennon        1      0   62             2               2   \n",
       "2        Aaron_Ramsey        0      0   26             0               3   \n",
       "3   Aaron_Wan-Bissaka        0      0    0             0               0   \n",
       "4  Abdoulaye_Doucouré        0      0   18             0               6   \n",
       "\n",
       "   goals_scored  own_goals  penalties_missed  penalties_saved  ...  value  \\\n",
       "0             0          0                 0                0  ...     53   \n",
       "1             0          0                 0                0  ...     55   \n",
       "2             0          0                 0                0  ...     76   \n",
       "3             0          0                 0                0  ...     45   \n",
       "4             0          0                 0                0  ...     46   \n",
       "\n",
       "   n6_total_points  n6_opponent_difficulty  perc_min_played     id  \\\n",
       "0               12                2.500000         1.000000  454.0   \n",
       "1                1                2.166667         0.577778  142.0   \n",
       "2                6                2.400000         0.233333   16.0   \n",
       "3                0                2.166667         0.000000  612.0   \n",
       "4                7                2.833333         0.333333  482.0   \n",
       "\n",
       "   element_type_1  element_type_2  element_type_3  element_type_4  predictions  \n",
       "0               0               1               0               0         13.0  \n",
       "1               0               0               1               0          5.0  \n",
       "2               0               0               1               0          8.0  \n",
       "3               0               0               1               0          0.0  \n",
       "4               0               0               1               0          7.0  \n",
       "\n",
       "[5 rows x 33 columns]"
      ]
     },
     "execution_count": 61,
     "metadata": {},
     "output_type": "execute_result"
    }
   ],
   "source": [
    "df_import['predictions'] = predictions.round()\n",
    "df_import.head()"
   ]
  },
  {
   "cell_type": "markdown",
   "metadata": {},
   "source": [
    "## Pulling most recent gameweek data and creating predictions"
   ]
  },
  {
   "cell_type": "code",
   "execution_count": 68,
   "metadata": {},
   "outputs": [],
   "source": [
    "##First 6 GW of 2019-20\n",
    "url = [\"https://raw.githubusercontent.com/vaastav/Fantasy-Premier-League/master/data/2020-21/gws/gw15.csv\",\n",
    "      \"https://raw.githubusercontent.com/vaastav/Fantasy-Premier-League/master/data/2020-21/gws/gw16.csv\",\n",
    "      \"https://raw.githubusercontent.com/vaastav/Fantasy-Premier-League/master/data/2020-21/gws/gw17.csv\",\n",
    "      \"https://raw.githubusercontent.com/vaastav/Fantasy-Premier-League/master/data/2020-21/gws/gw18.csv\",\n",
    "      \"https://raw.githubusercontent.com/vaastav/Fantasy-Premier-League/master/data/2020-21/gws/gw19.csv\",\n",
    "      \"https://raw.githubusercontent.com/vaastav/Fantasy-Premier-League/master/data/2020-21/gws/gw20.csv\"]"
   ]
  },
  {
   "cell_type": "code",
   "execution_count": 69,
   "metadata": {},
   "outputs": [
    {
     "data": {
      "text/html": [
       "<div>\n",
       "<style scoped>\n",
       "    .dataframe tbody tr th:only-of-type {\n",
       "        vertical-align: middle;\n",
       "    }\n",
       "\n",
       "    .dataframe tbody tr th {\n",
       "        vertical-align: top;\n",
       "    }\n",
       "\n",
       "    .dataframe thead th {\n",
       "        text-align: right;\n",
       "    }\n",
       "</style>\n",
       "<table border=\"1\" class=\"dataframe\">\n",
       "  <thead>\n",
       "    <tr style=\"text-align: right;\">\n",
       "      <th></th>\n",
       "      <th>team</th>\n",
       "      <th>n6_opponent_difficulty</th>\n",
       "      <th>team_code</th>\n",
       "    </tr>\n",
       "  </thead>\n",
       "  <tbody>\n",
       "    <tr>\n",
       "      <th>0</th>\n",
       "      <td>Arsenal</td>\n",
       "      <td>3.333333</td>\n",
       "      <td>1</td>\n",
       "    </tr>\n",
       "    <tr>\n",
       "      <th>1</th>\n",
       "      <td>Aston Villa</td>\n",
       "      <td>3.000000</td>\n",
       "      <td>2</td>\n",
       "    </tr>\n",
       "    <tr>\n",
       "      <th>2</th>\n",
       "      <td>Brighton</td>\n",
       "      <td>3.166667</td>\n",
       "      <td>3</td>\n",
       "    </tr>\n",
       "    <tr>\n",
       "      <th>3</th>\n",
       "      <td>Burnley</td>\n",
       "      <td>3.333333</td>\n",
       "      <td>4</td>\n",
       "    </tr>\n",
       "    <tr>\n",
       "      <th>4</th>\n",
       "      <td>Chelsea</td>\n",
       "      <td>3.333333</td>\n",
       "      <td>5</td>\n",
       "    </tr>\n",
       "    <tr>\n",
       "      <th>5</th>\n",
       "      <td>Crystal Palace</td>\n",
       "      <td>2.500000</td>\n",
       "      <td>6</td>\n",
       "    </tr>\n",
       "    <tr>\n",
       "      <th>6</th>\n",
       "      <td>Everton</td>\n",
       "      <td>3.166667</td>\n",
       "      <td>7</td>\n",
       "    </tr>\n",
       "    <tr>\n",
       "      <th>7</th>\n",
       "      <td>Fulham</td>\n",
       "      <td>3.000000</td>\n",
       "      <td>8</td>\n",
       "    </tr>\n",
       "    <tr>\n",
       "      <th>8</th>\n",
       "      <td>Leicester</td>\n",
       "      <td>3.166667</td>\n",
       "      <td>9</td>\n",
       "    </tr>\n",
       "    <tr>\n",
       "      <th>9</th>\n",
       "      <td>Leeds</td>\n",
       "      <td>3.000000</td>\n",
       "      <td>10</td>\n",
       "    </tr>\n",
       "    <tr>\n",
       "      <th>10</th>\n",
       "      <td>Liverpool</td>\n",
       "      <td>3.333333</td>\n",
       "      <td>11</td>\n",
       "    </tr>\n",
       "    <tr>\n",
       "      <th>11</th>\n",
       "      <td>Man City</td>\n",
       "      <td>3.666667</td>\n",
       "      <td>12</td>\n",
       "    </tr>\n",
       "    <tr>\n",
       "      <th>12</th>\n",
       "      <td>Man Utd</td>\n",
       "      <td>3.166667</td>\n",
       "      <td>13</td>\n",
       "    </tr>\n",
       "    <tr>\n",
       "      <th>13</th>\n",
       "      <td>Newcastle</td>\n",
       "      <td>3.333333</td>\n",
       "      <td>14</td>\n",
       "    </tr>\n",
       "    <tr>\n",
       "      <th>14</th>\n",
       "      <td>Sheffield Utd</td>\n",
       "      <td>3.500000</td>\n",
       "      <td>15</td>\n",
       "    </tr>\n",
       "    <tr>\n",
       "      <th>15</th>\n",
       "      <td>Southampton</td>\n",
       "      <td>3.166667</td>\n",
       "      <td>16</td>\n",
       "    </tr>\n",
       "    <tr>\n",
       "      <th>16</th>\n",
       "      <td>Spurs</td>\n",
       "      <td>3.166667</td>\n",
       "      <td>17</td>\n",
       "    </tr>\n",
       "    <tr>\n",
       "      <th>17</th>\n",
       "      <td>West Brom</td>\n",
       "      <td>3.000000</td>\n",
       "      <td>18</td>\n",
       "    </tr>\n",
       "    <tr>\n",
       "      <th>18</th>\n",
       "      <td>West Ham</td>\n",
       "      <td>3.500000</td>\n",
       "      <td>19</td>\n",
       "    </tr>\n",
       "    <tr>\n",
       "      <th>19</th>\n",
       "      <td>Wolves</td>\n",
       "      <td>3.166667</td>\n",
       "      <td>20</td>\n",
       "    </tr>\n",
       "  </tbody>\n",
       "</table>\n",
       "</div>"
      ],
      "text/plain": [
       "              team  n6_opponent_difficulty  team_code\n",
       "0          Arsenal                3.333333          1\n",
       "1      Aston Villa                3.000000          2\n",
       "2         Brighton                3.166667          3\n",
       "3          Burnley                3.333333          4\n",
       "4          Chelsea                3.333333          5\n",
       "5   Crystal Palace                2.500000          6\n",
       "6          Everton                3.166667          7\n",
       "7           Fulham                3.000000          8\n",
       "8        Leicester                3.166667          9\n",
       "9            Leeds                3.000000         10\n",
       "10       Liverpool                3.333333         11\n",
       "11        Man City                3.666667         12\n",
       "12         Man Utd                3.166667         13\n",
       "13       Newcastle                3.333333         14\n",
       "14   Sheffield Utd                3.500000         15\n",
       "15     Southampton                3.166667         16\n",
       "16           Spurs                3.166667         17\n",
       "17       West Brom                3.000000         18\n",
       "18        West Ham                3.500000         19\n",
       "19          Wolves                3.166667         20"
      ]
     },
     "execution_count": 69,
     "metadata": {},
     "output_type": "execute_result"
    }
   ],
   "source": [
    "df_n6 = pd.read_csv(\"https://raw.githubusercontent.com/tprice90/epl_fantasy_predictor/main/Data%20Prep/upcoming_six_games.csv\")\n",
    "df_n6 = pd.DataFrame(df_n6)\n",
    "\n",
    "df_n6.head(20)"
   ]
  },
  {
   "cell_type": "code",
   "execution_count": 70,
   "metadata": {},
   "outputs": [
    {
     "data": {
      "text/html": [
       "<div>\n",
       "<style scoped>\n",
       "    .dataframe tbody tr th:only-of-type {\n",
       "        vertical-align: middle;\n",
       "    }\n",
       "\n",
       "    .dataframe tbody tr th {\n",
       "        vertical-align: top;\n",
       "    }\n",
       "\n",
       "    .dataframe thead th {\n",
       "        text-align: right;\n",
       "    }\n",
       "</style>\n",
       "<table border=\"1\" class=\"dataframe\">\n",
       "  <thead>\n",
       "    <tr style=\"text-align: right;\">\n",
       "      <th></th>\n",
       "      <th>name</th>\n",
       "      <th>assists</th>\n",
       "      <th>bonus</th>\n",
       "      <th>bps</th>\n",
       "      <th>clean_sheets</th>\n",
       "      <th>goals_conceded</th>\n",
       "      <th>goals_scored</th>\n",
       "      <th>own_goals</th>\n",
       "      <th>penalties_missed</th>\n",
       "      <th>penalties_saved</th>\n",
       "      <th>...</th>\n",
       "      <th>threat</th>\n",
       "      <th>value</th>\n",
       "      <th>perc_min_played</th>\n",
       "      <th>n6_opponent_difficulty</th>\n",
       "      <th>team_code</th>\n",
       "      <th>element_type_1</th>\n",
       "      <th>element_type_2</th>\n",
       "      <th>element_type_3</th>\n",
       "      <th>element_type_4</th>\n",
       "      <th>element_type</th>\n",
       "    </tr>\n",
       "  </thead>\n",
       "  <tbody>\n",
       "    <tr>\n",
       "      <th>639</th>\n",
       "      <td>Serge Aurier</td>\n",
       "      <td>0</td>\n",
       "      <td>0</td>\n",
       "      <td>48</td>\n",
       "      <td>0</td>\n",
       "      <td>3</td>\n",
       "      <td>1</td>\n",
       "      <td>0</td>\n",
       "      <td>0</td>\n",
       "      <td>0</td>\n",
       "      <td>...</td>\n",
       "      <td>0.0</td>\n",
       "      <td>52</td>\n",
       "      <td>0.357143</td>\n",
       "      <td>3.166667</td>\n",
       "      <td>17</td>\n",
       "      <td>0</td>\n",
       "      <td>1</td>\n",
       "      <td>0</td>\n",
       "      <td>0</td>\n",
       "      <td>2</td>\n",
       "    </tr>\n",
       "    <tr>\n",
       "      <th>640</th>\n",
       "      <td>Sergio ReguilÃ³n</td>\n",
       "      <td>1</td>\n",
       "      <td>3</td>\n",
       "      <td>59</td>\n",
       "      <td>1</td>\n",
       "      <td>2</td>\n",
       "      <td>0</td>\n",
       "      <td>0</td>\n",
       "      <td>0</td>\n",
       "      <td>0</td>\n",
       "      <td>...</td>\n",
       "      <td>25.0</td>\n",
       "      <td>57</td>\n",
       "      <td>0.384127</td>\n",
       "      <td>3.166667</td>\n",
       "      <td>17</td>\n",
       "      <td>0</td>\n",
       "      <td>1</td>\n",
       "      <td>0</td>\n",
       "      <td>0</td>\n",
       "      <td>2</td>\n",
       "    </tr>\n",
       "    <tr>\n",
       "      <th>641</th>\n",
       "      <td>Steven Bergwijn</td>\n",
       "      <td>3</td>\n",
       "      <td>0</td>\n",
       "      <td>41</td>\n",
       "      <td>1</td>\n",
       "      <td>5</td>\n",
       "      <td>0</td>\n",
       "      <td>0</td>\n",
       "      <td>0</td>\n",
       "      <td>0</td>\n",
       "      <td>...</td>\n",
       "      <td>0.0</td>\n",
       "      <td>70</td>\n",
       "      <td>0.449206</td>\n",
       "      <td>3.166667</td>\n",
       "      <td>17</td>\n",
       "      <td>0</td>\n",
       "      <td>0</td>\n",
       "      <td>1</td>\n",
       "      <td>0</td>\n",
       "      <td>3</td>\n",
       "    </tr>\n",
       "    <tr>\n",
       "      <th>642</th>\n",
       "      <td>Tanguy Ndombele</td>\n",
       "      <td>0</td>\n",
       "      <td>5</td>\n",
       "      <td>104</td>\n",
       "      <td>2</td>\n",
       "      <td>5</td>\n",
       "      <td>2</td>\n",
       "      <td>0</td>\n",
       "      <td>0</td>\n",
       "      <td>0</td>\n",
       "      <td>...</td>\n",
       "      <td>7.0</td>\n",
       "      <td>59</td>\n",
       "      <td>0.644444</td>\n",
       "      <td>3.166667</td>\n",
       "      <td>17</td>\n",
       "      <td>0</td>\n",
       "      <td>0</td>\n",
       "      <td>1</td>\n",
       "      <td>0</td>\n",
       "      <td>3</td>\n",
       "    </tr>\n",
       "    <tr>\n",
       "      <th>643</th>\n",
       "      <td>Toby Alderweireld</td>\n",
       "      <td>0</td>\n",
       "      <td>1</td>\n",
       "      <td>31</td>\n",
       "      <td>1</td>\n",
       "      <td>0</td>\n",
       "      <td>1</td>\n",
       "      <td>0</td>\n",
       "      <td>0</td>\n",
       "      <td>0</td>\n",
       "      <td>...</td>\n",
       "      <td>0.0</td>\n",
       "      <td>54</td>\n",
       "      <td>0.142857</td>\n",
       "      <td>3.166667</td>\n",
       "      <td>17</td>\n",
       "      <td>0</td>\n",
       "      <td>1</td>\n",
       "      <td>0</td>\n",
       "      <td>0</td>\n",
       "      <td>2</td>\n",
       "    </tr>\n",
       "  </tbody>\n",
       "</table>\n",
       "<p>5 rows × 33 columns</p>\n",
       "</div>"
      ],
      "text/plain": [
       "                  name  assists  bonus  bps  clean_sheets  goals_conceded  \\\n",
       "639       Serge Aurier        0      0   48             0               3   \n",
       "640   Sergio ReguilÃ³n        1      3   59             1               2   \n",
       "641    Steven Bergwijn        3      0   41             1               5   \n",
       "642    Tanguy Ndombele        0      5  104             2               5   \n",
       "643  Toby Alderweireld        0      1   31             1               0   \n",
       "\n",
       "     goals_scored  own_goals  penalties_missed  penalties_saved  ...  threat  \\\n",
       "639             1          0                 0                0  ...     0.0   \n",
       "640             0          0                 0                0  ...    25.0   \n",
       "641             0          0                 0                0  ...     0.0   \n",
       "642             2          0                 0                0  ...     7.0   \n",
       "643             1          0                 0                0  ...     0.0   \n",
       "\n",
       "     value  perc_min_played  n6_opponent_difficulty  team_code  \\\n",
       "639     52         0.357143                3.166667         17   \n",
       "640     57         0.384127                3.166667         17   \n",
       "641     70         0.449206                3.166667         17   \n",
       "642     59         0.644444                3.166667         17   \n",
       "643     54         0.142857                3.166667         17   \n",
       "\n",
       "     element_type_1  element_type_2  element_type_3  element_type_4  \\\n",
       "639               0               1               0               0   \n",
       "640               0               1               0               0   \n",
       "641               0               0               1               0   \n",
       "642               0               0               1               0   \n",
       "643               0               1               0               0   \n",
       "\n",
       "    element_type  \n",
       "639            2  \n",
       "640            2  \n",
       "641            3  \n",
       "642            3  \n",
       "643            2  \n",
       "\n",
       "[5 rows x 33 columns]"
      ]
     },
     "execution_count": 70,
     "metadata": {},
     "output_type": "execute_result"
    }
   ],
   "source": [
    "fix_diff = pd.read_csv(\"https://raw.githubusercontent.com/tprice90/epl_fantasy_predictor/main/Data%20Prep/epl_difficulty_20_21.csv\")\n",
    "fix_diff = pd.DataFrame(fix_diff)\n",
    "\n",
    "df_20_21 = pd.DataFrame()\n",
    "for data in url:\n",
    "    df = pd.read_csv(data, encoding = \"ISO-8859-1\")\n",
    "    df_20_21 = df_20_21.append(df)\n",
    "    \n",
    "df_20_21 = df_20_21.merge(fix_diff, left_on='opponent_team', right_on='opponent_team')\n",
    "df_20_21_agg = df_20_21.groupby(['name'], as_index=False).agg({'assists':'sum',\n",
    "                                                             'bonus':'sum',\n",
    "                                                             'bps':'sum',\n",
    "                                                             'clean_sheets':'sum',                                                             \n",
    "                                                              'goals_conceded':'sum',\n",
    "                                                              'goals_scored':'sum',\n",
    "                                                              'minutes':'sum',\n",
    "                                                              'own_goals':'sum',\n",
    "                                                              'penalties_missed':'sum',\n",
    "                                                              'penalties_saved':'sum',\n",
    "                                                              'red_cards':'sum',\n",
    "                                                              'saves':'sum',\n",
    "                                                              'selected':'sum',\n",
    "                                                              'total_points':'sum',\n",
    "                                                              'transfers_balance':'sum',\n",
    "                                                              'was_home':'sum',\n",
    "                                                              'yellow_cards':'sum',\n",
    "                                                              'opponent_difficulty':'mean',\n",
    "                                                              'round':'count'})\n",
    "\n",
    "df_20_21_agg['round'] = max(df_20_21_agg['round'])\n",
    "\n",
    "##Get Last Value for players in GW range\n",
    "df_20_21_last = df_20_21.groupby('name',as_index=False).last()\n",
    "df_20_21_last = df_20_21_last[['name','element','position','team','creativity','ict_index','influence','threat','value']]\n",
    "\n",
    "df_20_21 = df_20_21_agg.merge(df_20_21_last, left_on='name', right_on='name')\n",
    "df_20_21['perc_min_played'] = df_20_21['minutes']/(df_20_21['round']*90)\n",
    "df_20_21 = df_20_21.drop(columns=['minutes','round'], axis=0)\n",
    "df_20_21 = df_20_21.merge(df_n6, left_on='team', right_on='team')\n",
    "df_20_21.head()\n",
    "df_20_21 = df_20_21.drop('team', axis=1)\n",
    "\n",
    "df_20_21['element_type_1'] = np.where(df_20_21['position']== 'GK', 1, 0)\n",
    "df_20_21['element_type_2'] = np.where(df_20_21['position']== 'DEF', 1, 0)\n",
    "df_20_21['element_type_3'] = np.where(df_20_21['position']== 'MID', 1, 0)\n",
    "df_20_21['element_type_4'] = np.where(df_20_21['position']== 'FWD', 1, 0)\n",
    "\n",
    "df_20_21['element_type'] = 1\n",
    "df_20_21.loc[df_20_21['position']== 'DEF', 'element_type'] = 2\n",
    "df_20_21.loc[df_20_21['position']== 'MID', 'element_type'] = 3\n",
    "df_20_21.loc[df_20_21['position']== 'FWD', 'element_type'] = 4\n",
    "df_20_21.tail()"
   ]
  },
  {
   "cell_type": "code",
   "execution_count": 71,
   "metadata": {},
   "outputs": [],
   "source": [
    "df_pred = df_20_21.drop(['name','element','position','element_type','team_code'], axis=1)\n",
    "predictions = rf.predict(df_pred)\n"
   ]
  },
  {
   "cell_type": "markdown",
   "metadata": {},
   "source": [
    "## Linear Programming to Maximize our Fantasy Scores given a Budget Constraint"
   ]
  },
  {
   "cell_type": "code",
   "execution_count": 72,
   "metadata": {},
   "outputs": [],
   "source": [
    "df_20_21['predictions'] = predictions.round()\n",
    "\n",
    "#drop injured players showing up\n",
    "# df_20_21 = df_20_21[df_20_21['name'] != 'Ãaglar SÃ¶yÃ¼ncÃ¼'] \n",
    "# df_20_21 = df_20_21[df_20_21['name'] != 'Kevin De Bruyne'] \n",
    "\n",
    "\n",
    "expected_scores = df_20_21['predictions']\n",
    "prices = df_20_21['value']/10\n",
    "positions = df_20_21['element_type']\n",
    "clubs = df_20_21['team_code']\n",
    "names = df_20_21['name']"
   ]
  },
  {
   "cell_type": "code",
   "execution_count": 73,
   "metadata": {},
   "outputs": [],
   "source": [
    "\n",
    "def select_team(expected_scores, prices, positions, clubs, total_budget=99.8, sub_factor=0.2):\n",
    "    num_players = len(expected_scores)\n",
    "    model = pulp.LpProblem(\"Constrained value maximisation\", pulp.LpMaximize)\n",
    "    decisions = [\n",
    "        pulp.LpVariable(\"x{}\".format(i), lowBound=0, upBound=1, cat='Integer')\n",
    "        for i in range(num_players)\n",
    "    ]\n",
    "    captain_decisions = [\n",
    "        pulp.LpVariable(\"y{}\".format(i), lowBound=0, upBound=1, cat='Integer')\n",
    "        for i in range(num_players)\n",
    "    ]\n",
    "    sub_decisions = [\n",
    "        pulp.LpVariable(\"z{}\".format(i), lowBound=0, upBound=1, cat='Integer')\n",
    "        for i in range(num_players)\n",
    "    ]\n",
    "\n",
    "\n",
    "    # objective function:\n",
    "    model += sum((captain_decisions[i] + decisions[i] + sub_decisions[i]*sub_factor) * expected_scores[i]\n",
    "                 for i in range(num_players)), \"Objective\"\n",
    "\n",
    "    # cost constraint\n",
    "    model += sum((decisions[i] + sub_decisions[i]) * prices[i] for i in range(num_players)) <= total_budget  # total cost\n",
    "\n",
    "    # position constraints\n",
    "    # 1 starting goalkeeper\n",
    "    model += sum(decisions[i] for i in range(num_players) if positions[i] == 1) == 1\n",
    "    # 2 total goalkeepers\n",
    "    model += sum(decisions[i] + sub_decisions[i] for i in range(num_players) if positions[i] == 1) == 2\n",
    "\n",
    "    # 3-5 starting defenders\n",
    "    model += sum(decisions[i] for i in range(num_players) if positions[i] == 2) >= 3\n",
    "    model += sum(decisions[i] for i in range(num_players) if positions[i] == 2) <= 5\n",
    "    # 5 total defenders\n",
    "    model += sum(decisions[i] + sub_decisions[i] for i in range(num_players) if positions[i] == 2) == 5\n",
    "\n",
    "    # 3-5 starting midfielders\n",
    "    model += sum(decisions[i] for i in range(num_players) if positions[i] == 3) >= 3\n",
    "    model += sum(decisions[i] for i in range(num_players) if positions[i] == 3) <= 5\n",
    "    # 5 total midfielders\n",
    "    model += sum(decisions[i] + sub_decisions[i] for i in range(num_players) if positions[i] == 3) == 5\n",
    "\n",
    "    # 1-3 starting attackers\n",
    "    model += sum(decisions[i] for i in range(num_players) if positions[i] == 4) >= 1\n",
    "    model += sum(decisions[i] for i in range(num_players) if positions[i] == 4) <= 3\n",
    "    # 3 total attackers\n",
    "    model += sum(decisions[i] + sub_decisions[i] for i in range(num_players) if positions[i] == 4) == 3\n",
    "\n",
    "    # club constraint\n",
    "    for club_id in np.unique(clubs):\n",
    "        model += sum(decisions[i] + sub_decisions[i] for i in range(num_players) if clubs[i] == club_id) <= 3  # max 3 players\n",
    "\n",
    "    model += sum(decisions) == 11  # total team size\n",
    "    model += sum(captain_decisions) == 1  # 1 captain\n",
    "    \n",
    "    for i in range(num_players):  \n",
    "        model += (decisions[i] - captain_decisions[i]) >= 0  # captain must also be on team\n",
    "        model += (decisions[i] + sub_decisions[i]) <= 1  # subs must not be on team\n",
    "\n",
    "    model.solve()\n",
    "    print(\"Total expected score = {}\".format(model.objective.value()))\n",
    "\n",
    "    return decisions, captain_decisions, sub_decisions"
   ]
  },
  {
   "cell_type": "markdown",
   "metadata": {},
   "source": [
    "### Optimal Team Choice for Next 6 Weeks given our Budget"
   ]
  },
  {
   "cell_type": "code",
   "execution_count": 74,
   "metadata": {},
   "outputs": [
    {
     "name": "stderr",
     "output_type": "stream",
     "text": [
      "c:\\users\\thomas price\\appdata\\local\\programs\\python\\python38-32\\lib\\site-packages\\pulp\\pulp.py:1195: UserWarning: Spaces are not permitted in the name. Converted to '_'\n",
      "  warnings.warn(\"Spaces are not permitted in the name. Converted to '_'\")\n"
     ]
    },
    {
     "name": "stdout",
     "output_type": "stream",
     "text": [
      "Total expected score = 362.99999999999994\n"
     ]
    },
    {
     "data": {
      "text/markdown": [
       "**Michail Antonio** Points = 23.0, Price = 6.3"
      ],
      "text/plain": [
       "<IPython.core.display.Markdown object>"
      ]
     },
     "metadata": {},
     "output_type": "display_data"
    },
    {
     "data": {
      "text/markdown": [
       "**Bruno Miguel Borges Fernandes** Points = 29.0, Price = 11.1"
      ],
      "text/plain": [
       "<IPython.core.display.Markdown object>"
      ]
     },
     "metadata": {},
     "output_type": "display_data"
    },
    {
     "data": {
      "text/markdown": [
       "**Pedro Lomba Neto** Points = 25.0, Price = 6.0"
      ],
      "text/plain": [
       "<IPython.core.display.Markdown object>"
      ]
     },
     "metadata": {},
     "output_type": "display_data"
    },
    {
     "data": {
      "text/markdown": [
       "**Willy Boly** Points = 22.0, Price = 5.4"
      ],
      "text/plain": [
       "<IPython.core.display.Markdown object>"
      ]
     },
     "metadata": {},
     "output_type": "display_data"
    },
    {
     "data": {
      "text/markdown": [
       "**Ederson Santana de Moraes** Points = 35.0, Price = 6.0"
      ],
      "text/plain": [
       "<IPython.core.display.Markdown object>"
      ]
     },
     "metadata": {},
     "output_type": "display_data"
    },
    {
     "data": {
      "text/markdown": [
       "**Ilkay GÃ¼ndogan** Points = 32.0, Price = 5.6"
      ],
      "text/plain": [
       "<IPython.core.display.Markdown object>"
      ]
     },
     "metadata": {},
     "output_type": "display_data"
    },
    {
     "data": {
      "text/markdown": [
       "**Phil Foden** Points = 31.0, Price = 6.3"
      ],
      "text/plain": [
       "<IPython.core.display.Markdown object>"
      ]
     },
     "metadata": {},
     "output_type": "display_data"
    },
    {
     "data": {
      "text/markdown": [
       "**Andrew Robertson** Points = 26.0, Price = 7.3"
      ],
      "text/plain": [
       "<IPython.core.display.Markdown object>"
      ]
     },
     "metadata": {},
     "output_type": "display_data"
    },
    {
     "data": {
      "text/markdown": [
       "**Trent Alexander-Arnold** Points = 28.0, Price = 7.2"
      ],
      "text/plain": [
       "<IPython.core.display.Markdown object>"
      ]
     },
     "metadata": {},
     "output_type": "display_data"
    },
    {
     "data": {
      "text/markdown": [
       "**Ollie Watkins** Points = 26.0, Price = 6.1"
      ],
      "text/plain": [
       "<IPython.core.display.Markdown object>"
      ]
     },
     "metadata": {},
     "output_type": "display_data"
    },
    {
     "data": {
      "text/markdown": [
       "**Pierre-Emerick Aubameyang** Points = 34.0, Price = 11.4"
      ],
      "text/plain": [
       "<IPython.core.display.Markdown object>"
      ]
     },
     "metadata": {},
     "output_type": "display_data"
    },
    {
     "name": "stdout",
     "output_type": "stream",
     "text": [
      "\n",
      "Subs:\n"
     ]
    },
    {
     "data": {
      "text/markdown": [
       "**Rodrigo Moreno** Points = 21.0, Price = 5.7"
      ],
      "text/plain": [
       "<IPython.core.display.Markdown object>"
      ]
     },
     "metadata": {},
     "output_type": "display_data"
    },
    {
     "data": {
      "text/markdown": [
       "**Bernd Leno** Points = 22.0, Price = 4.9"
      ],
      "text/plain": [
       "<IPython.core.display.Markdown object>"
      ]
     },
     "metadata": {},
     "output_type": "display_data"
    },
    {
     "data": {
      "text/markdown": [
       "**Kieran Tierney** Points = 22.0, Price = 5.3"
      ],
      "text/plain": [
       "<IPython.core.display.Markdown object>"
      ]
     },
     "metadata": {},
     "output_type": "display_data"
    },
    {
     "data": {
      "text/markdown": [
       "**Kyle Walker-Peters** Points = 20.0, Price = 4.8"
      ],
      "text/plain": [
       "<IPython.core.display.Markdown object>"
      ]
     },
     "metadata": {},
     "output_type": "display_data"
    },
    {
     "name": "stdout",
     "output_type": "stream",
     "text": [
      "\n",
      "Captain:\n"
     ]
    },
    {
     "data": {
      "text/markdown": [
       "**Ederson Santana de Moraes** Points = 35.0, Price = 6.0"
      ],
      "text/plain": [
       "<IPython.core.display.Markdown object>"
      ]
     },
     "metadata": {},
     "output_type": "display_data"
    }
   ],
   "source": [
    "decisions, captain_decisions, sub_decisions = select_team(expected_scores.values, prices.values, positions.values, clubs.values)\n",
    "# print results\n",
    "for i in range(df.shape[0]):\n",
    "    if decisions[i].value() != 0:\n",
    "        display(Markdown(\"**{}** Points = {}, Price = {}\".format(names[i], expected_scores[i], prices[i])))\n",
    "print()\n",
    "print(\"Subs:\")\n",
    "# print results\n",
    "for i in range(df.shape[0]):\n",
    "    if sub_decisions[i].value() == 1:\n",
    "        display(Markdown(\"**{}** Points = {}, Price = {}\".format(names[i], expected_scores[i], prices[i])))\n",
    "\n",
    "print()\n",
    "print(\"Captain:\")\n",
    "# print results\n",
    "for i in range(df.shape[0]):\n",
    "    if captain_decisions[i].value() == 1:\n",
    "        display(Markdown(\"**{}** Points = {}, Price = {}\".format(names[i], expected_scores[i], prices[i])))"
   ]
  },
  {
   "cell_type": "code",
   "execution_count": null,
   "metadata": {},
   "outputs": [],
   "source": []
  }
 ],
 "metadata": {
  "kernelspec": {
   "display_name": "Python 3",
   "language": "python",
   "name": "python3"
  },
  "language_info": {
   "codemirror_mode": {
    "name": "ipython",
    "version": 3
   },
   "file_extension": ".py",
   "mimetype": "text/x-python",
   "name": "python",
   "nbconvert_exporter": "python",
   "pygments_lexer": "ipython3",
   "version": "3.8.6"
  }
 },
 "nbformat": 4,
 "nbformat_minor": 4
}
